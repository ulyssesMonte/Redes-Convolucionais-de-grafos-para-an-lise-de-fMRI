{
  "cells": [
    {
      "cell_type": "markdown",
      "metadata": {
        "id": "view-in-github",
        "colab_type": "text"
      },
      "source": [
        "<a href=\"https://colab.research.google.com/github/ulyssesMonte/Redes-Convolucionais-de-grafos-para-an-lise-de-fMRI/blob/main/gnns_in_neuroscience_graph_convolutional_networks_for_fmri_analysis.ipynb\" target=\"_parent\"><img src=\"https://colab.research.google.com/assets/colab-badge.svg\" alt=\"Open In Colab\"/></a>"
      ]
    },
    {
      "cell_type": "markdown",
      "metadata": {
        "id": "MUCDvCp898lg"
      },
      "source": [
        "# GNNs na neurociência: redes convolucionais de grafos para análise de  ressonância magnética funcional\n",
        "\n",
        "Por Sidney Hough, Julian Quevedo, e Pino Cholsaipant como parte do projeto de curso CS224W de Stanford. Link para o Artigo médio correspondente com explicações [aqui](https://medium.com/stanford-cs224w/gnns-in-neuroscience-graph-convolutional-networks-for-fmri-analysis-8a2e933bd802).\n",
        "\n",
        "![](https://i.imgur.com/FYaEgKW.jpg)"
      ]
    },
    {
      "cell_type": "markdown",
      "metadata": {
        "id": "rI1tZB5M_le7"
      },
      "source": [
        "Todas as instalações e importações que precisaremos.\n"
      ]
    },
    {
      "cell_type": "code",
      "execution_count": null,
      "metadata": {
        "id": "SMdTPCZXJhzl"
      },
      "outputs": [],
      "source": [
        "%%capture\n",
        "\n",
        "#!pip install nilearn\n",
        "#!pip install torch-scatter torch-sparse torch-cluster torch-spline-conv torch-geometric -f https://data.pyg.org/whl/torch-1.10.0+cu113.html"
      ]
    },
    {
      "cell_type": "code",
      "execution_count": null,
      "metadata": {
        "id": "MeS1tDpTJzNK"
      },
      "outputs": [],
      "source": [
        "import os\n",
        "import torch\n",
        "from torch import nn\n",
        "import numpy as np\n",
        "import matplotlib.pyplot as plt\n",
        "from tqdm import tqdm\n",
        "import re\n",
        "\n",
        "from nilearn import datasets\n",
        "from nilearn import plotting\n",
        "from nilearn.input_data import NiftiMapsMasker\n",
        "from nilearn.connectome import ConnectivityMeasure\n",
        "\n",
        "import torch.nn.functional as F\n",
        "from torch.nn import Sequential, Linear, ReLU, GRU, BatchNorm1d\n",
        "from torch_geometric.nn import EdgeConv, GCNConv, GraphConv\n",
        "from torch_geometric.nn import global_mean_pool\n",
        "from torch_geometric.data import InMemoryDataset, Data, DataLoader\n",
        "from torch_geometric.utils import from_networkx\n",
        "\n",
        "from torch.serialization import add_safe_globals\n",
        "from torch_geometric.data.data import DataEdgeAttr, DataTensorAttr, GlobalStorage\n",
        "add_safe_globals([GlobalStorage])\n",
        "add_safe_globals([DataTensorAttr])\n",
        "\n",
        "\n",
        "\n",
        "import networkx as nx\n",
        "# from networkx.convert_matrix import from_numpy_matrix\n",
        "from networkx import from_numpy_array"
      ]
    },
    {
      "cell_type": "markdown",
      "metadata": {
        "id": "90JVaYNiJz3X"
      },
      "source": [
        "# **Preparação dos Dados**\n",
        "\n",
        "Organização dos dados brutos dos cursos de Ressonancia magnetica funcional necessários para nossa atividade de aprendizado.\n",
        "\n",
        "[Nilearn](https://nilearn.github.io/stable/index.html) É um ótimo exemplo de software de código aberto que possui utilidades e funções necessárias para cá!\n",
        "\n",
        "![](https://i.imgur.com/vyyZA9t.png)"
      ]
    },
    {
      "cell_type": "markdown",
      "metadata": {
        "id": "J_V0tRU2_zgb"
      },
      "source": [
        "Criar os diretórios onde o nosso volume de dados vai estar salvo."
      ]
    },
    {
      "cell_type": "code",
      "execution_count": null,
      "metadata": {
        "id": "JCerueTd7NJn"
      },
      "outputs": [],
      "source": [
        "dataset_path = 'dataset'\n",
        "corr_matrices_dir = f'{dataset_path}/corr_matrices'\n",
        "pcorr_matrices_dir = f'{dataset_path}/pcorr_matrices'\n",
        "avg_pcorr_file = f'{dataset_path}/avg_pcorr.csv'\n",
        "time_series_dir = f'{dataset_path}/time_series'\n",
        "labels_file = f'{dataset_path}/labels.csv'\n",
        "if not os.path.exists(corr_matrices_dir):\n",
        "  os.makedirs(corr_matrices_dir)\n",
        "if not os.path.exists(pcorr_matrices_dir):\n",
        "  os.makedirs(pcorr_matrices_dir)\n",
        "if not os.path.exists(time_series_dir):\n",
        "  os.makedirs(time_series_dir)"
      ]
    },
    {
      "cell_type": "markdown",
      "metadata": {
        "id": "kc54WIxOAHyh"
      },
      "source": [
        "Obter um atlas que divide o cérebro em regiões de interesse (ROIs) e obtenha os dados brutos de fMRI do OpenNeuro.\n",
        "\n",
        "[Link](https://openneuro.org/datasets/ds000228/versions/1.1.0) para o dataset."
      ]
    },
    {
      "cell_type": "code",
      "execution_count": null,
      "metadata": {
        "collapsed": true,
        "id": "pLNs5akRJ_Xm",
        "colab": {
          "base_uri": "https://localhost:8080/",
          "height": 84
        },
        "outputId": "938e588f-f3a0-4ab1-ec4f-40fe4fe126c6"
      },
      "outputs": [
        {
          "output_type": "display_data",
          "data": {
            "text/plain": [
              "\u001b[1;34m[\u001b[0m\u001b[34mfetch_atlas_msdl\u001b[0m\u001b[1;34m]\u001b[0m Dataset found in \u001b[35m/root/nilearn_data/\u001b[0m\u001b[95mmsdl_atlas\u001b[0m\n"
            ],
            "text/html": [
              "<pre style=\"white-space:pre;overflow-x:auto;line-height:normal;font-family:Menlo,'DejaVu Sans Mono',consolas,'Courier New',monospace\"><span style=\"color: #000080; text-decoration-color: #000080; font-weight: bold\">[</span><span style=\"color: #000080; text-decoration-color: #000080\">fetch_atlas_msdl</span><span style=\"color: #000080; text-decoration-color: #000080; font-weight: bold\">]</span> Dataset found in <span style=\"color: #800080; text-decoration-color: #800080\">/root/nilearn_data/</span><span style=\"color: #ff00ff; text-decoration-color: #ff00ff\">msdl_atlas</span>\n",
              "</pre>\n"
            ]
          },
          "metadata": {}
        },
        {
          "output_type": "display_data",
          "data": {
            "text/plain": [
              "\u001b[1;34m[\u001b[0m\u001b[34mfetch_development_fmri\u001b[0m\u001b[1;34m]\u001b[0m Dataset found in \u001b[35m/root/nilearn_data/\u001b[0m\u001b[95mdevelopment_fmri\u001b[0m\n"
            ],
            "text/html": [
              "<pre style=\"white-space:pre;overflow-x:auto;line-height:normal;font-family:Menlo,'DejaVu Sans Mono',consolas,'Courier New',monospace\"><span style=\"color: #000080; text-decoration-color: #000080; font-weight: bold\">[</span><span style=\"color: #000080; text-decoration-color: #000080\">fetch_development_fmri</span><span style=\"color: #000080; text-decoration-color: #000080; font-weight: bold\">]</span> Dataset found in <span style=\"color: #800080; text-decoration-color: #800080\">/root/nilearn_data/</span><span style=\"color: #ff00ff; text-decoration-color: #ff00ff\">development_fmri</span>\n",
              "</pre>\n"
            ]
          },
          "metadata": {}
        },
        {
          "output_type": "display_data",
          "data": {
            "text/plain": [
              "\u001b[1;34m[\u001b[0m\u001b[34mfetch_development_fmri\u001b[0m\u001b[1;34m]\u001b[0m Dataset found in \u001b[35m/root/nilearn_data/development_fmri/\u001b[0m\u001b[95mdevelopment_fmri\u001b[0m\n"
            ],
            "text/html": [
              "<pre style=\"white-space:pre;overflow-x:auto;line-height:normal;font-family:Menlo,'DejaVu Sans Mono',consolas,'Courier New',monospace\"><span style=\"color: #000080; text-decoration-color: #000080; font-weight: bold\">[</span><span style=\"color: #000080; text-decoration-color: #000080\">fetch_development_fmri</span><span style=\"color: #000080; text-decoration-color: #000080; font-weight: bold\">]</span> Dataset found in <span style=\"color: #800080; text-decoration-color: #800080\">/root/nilearn_data/development_fmri/</span><span style=\"color: #ff00ff; text-decoration-color: #ff00ff\">development_fmri</span>\n",
              "</pre>\n"
            ]
          },
          "metadata": {}
        },
        {
          "output_type": "display_data",
          "data": {
            "text/plain": [
              "\u001b[1;34m[\u001b[0m\u001b[34mfetch_development_fmri\u001b[0m\u001b[1;34m]\u001b[0m Dataset found in \u001b[35m/root/nilearn_data/development_fmri/\u001b[0m\u001b[95mdevelopment_fmri\u001b[0m\n"
            ],
            "text/html": [
              "<pre style=\"white-space:pre;overflow-x:auto;line-height:normal;font-family:Menlo,'DejaVu Sans Mono',consolas,'Courier New',monospace\"><span style=\"color: #000080; text-decoration-color: #000080; font-weight: bold\">[</span><span style=\"color: #000080; text-decoration-color: #000080\">fetch_development_fmri</span><span style=\"color: #000080; text-decoration-color: #000080; font-weight: bold\">]</span> Dataset found in <span style=\"color: #800080; text-decoration-color: #800080\">/root/nilearn_data/development_fmri/</span><span style=\"color: #ff00ff; text-decoration-color: #ff00ff\">development_fmri</span>\n",
              "</pre>\n"
            ]
          },
          "metadata": {}
        }
      ],
      "source": [
        "atlas = datasets.fetch_atlas_msdl()\n",
        "atlas_filename = atlas.maps\n",
        "atlas_labels = atlas.labels\n",
        "\n",
        "data = datasets.fetch_development_fmri()"
      ]
    },
    {
      "cell_type": "markdown",
      "metadata": {
        "id": "ooy3UEUTAO5_"
      },
      "source": [
        "Extraia o sinal em cada ROI ao longo do tempo usando o atlas que acabamos de criar."
      ]
    },
    {
      "cell_type": "code",
      "execution_count": null,
      "metadata": {
        "id": "jvMbkVS1KDDi",
        "colab": {
          "base_uri": "https://localhost:8080/"
        },
        "outputId": "fd5dfa5b-b68a-4ff7-92c7-a5f8ade35b97"
      },
      "outputs": [
        {
          "output_type": "stream",
          "name": "stderr",
          "text": [
            "/usr/local/lib/python3.11/dist-packages/sklearn/utils/_set_output.py:319: UserWarning: memory_level is currently set to 0 but a Memory object has been provided. Setting memory_level to 1.\n",
            "  data_to_wrap = f(self, X, *args, **kwargs)\n"
          ]
        }
      ],
      "source": [
        "# standardize=True means signals in time series signals are shifted to zero mean and scaled to unit variance\n",
        "masker = NiftiMapsMasker(maps_img=atlas_filename, standardize=True, memory='nilearn_cache')\n",
        "\n",
        "time_series = [0] * len(data.func)\n",
        "labels = [0] * len(data.func)\n",
        "\n",
        "\n",
        "for i in range(len(data.func)):\n",
        "    sub_id = data.phenotypic['participant_id'].iloc[i]\n",
        "    sub_num = int(sub_id.replace('sub-pixar', '')) - 1\n",
        "\n",
        "    ts = masker.fit_transform(data.func[i], confounds=data.confounds[i])\n",
        "    time_series[sub_num] = ts\n",
        "    labels[sub_num] = data.phenotypic['Child_Adult'].iloc[i]\n",
        "\n",
        "\n",
        "# Save time series\n",
        "for i in range(len(time_series)):\n",
        "  np.savetxt(f'{time_series_dir}/time_series_{i:04d}.csv', time_series[i], delimiter=',')"
      ]
    },
    {
      "cell_type": "markdown",
      "metadata": {
        "id": "IDt63EC6A1Fe"
      },
      "source": [
        "Calculando a matriz de correlação parcial para cada série temporal e calculando a média. Isso servirá de base para as arestas nos gráficos que criaremos posteriormente.\n",
        "\n"
      ]
    },
    {
      "cell_type": "code",
      "execution_count": null,
      "metadata": {
        "id": "R-mFP1seS-1b"
      },
      "outputs": [],
      "source": [
        "corr_measure = ConnectivityMeasure(kind='correlation')\n",
        "pcorr_measure = ConnectivityMeasure(kind='partial correlation')\n",
        "\n",
        "corr_matrices = corr_measure.fit_transform(time_series)\n",
        "pcorr_matrices = pcorr_measure.fit_transform(time_series)\n",
        "\n",
        "# Get average partial correlation matrix across time series and save\n",
        "avg_pcorr_matrix = np.mean(pcorr_matrices, axis=0)\n",
        "np.savetxt(avg_pcorr_file, avg_pcorr_matrix, delimiter=',')\n",
        "\n",
        "# Save correlation and partial correlation matrices\n",
        "for i in range(0, len(corr_matrices)):\n",
        "    np.savetxt(f'{corr_matrices_dir}/corr_{i:04d}.csv', corr_matrices[i], delimiter=',')\n",
        "    np.savetxt(f'{pcorr_matrices_dir}/pcorr_{i:04d}.csv', pcorr_matrices[i], delimiter=',')\n",
        "\n",
        "# Save labels\n",
        "label_nums = [0 if label == 'child' else 1 for label in labels]\n",
        "np.savetxt(labels_file, np.asarray(label_nums).astype(int), delimiter=',')"
      ]
    },
    {
      "cell_type": "markdown",
      "metadata": {
        "id": "-9exCa_bBaZk"
      },
      "source": [
        "Vamos visualizar um connectome funcional!"
      ]
    },
    {
      "cell_type": "code",
      "execution_count": null,
      "metadata": {
        "id": "AJ2XHP4JWELu"
      },
      "outputs": [],
      "source": [
        "# Partial correlation matrix\n",
        "plotting.plot_matrix(corr_matrices[0], labels=atlas_labels, colorbar=True, vmax=1, vmin=-0.8)\n",
        "print(\"Média da conectividade (correlação):\", np.mean(corr_matrices[0]))\n",
        "print(\"Máximo da conectividade:\", np.max(corr_matrices[0]))\n",
        "\n",
        "# Connectome over brain schematic\n",
        "coords = atlas.region_coords # Get center coordinates of each ROI\n",
        "plotting.plot_connectome(corr_matrices[0], coords, edge_threshold=\"80%\", colorbar=True)\n",
        "\n",
        "coords = atlas.region_coords  # lista com coordenadas de cada ROI\n",
        "plotting.plot_connectome(corr_matrices[0], coords, edge_threshold=\"80%\", colorbar=True)\n"
      ]
    },
    {
      "cell_type": "markdown",
      "metadata": {
        "id": "jgvh1BjeBoiX"
      },
      "source": [
        "Defina uma classe personalizada para nosso conjunto de dados.\n",
        "\n",
        "Para construir os gráficos, carregamos as matrizes de correlação parcial que calculamos anteriormente. As arestas são formadas entre as ROIs e seus correlatos diferentes de zero.\n",
        "\n",
        "Em seguida, pegamos nossas matrizes de correlação e as usamos como recursos para nossos gráficos."
      ]
    },
    {
      "cell_type": "code",
      "execution_count": null,
      "metadata": {
        "id": "1T4rfkCf8BPJ"
      },
      "outputs": [],
      "source": [
        "class DevDataset(InMemoryDataset):\n",
        "    def __init__(self, root, transform=None, pre_transform=None, neighbors=10):\n",
        "        self.neighbors = neighbors\n",
        "        super().__init__(root, transform, pre_transform)\n",
        "        self.data, self.slices = torch.load(self.processed_paths[0], weights_only=False)\n",
        "\n",
        "    @property\n",
        "    def processed_file_names(self):\n",
        "        return ['data.pt']\n",
        "\n",
        "    def process(self):\n",
        "        \"\"\" Converts raw data into GNN-readable format by constructing\n",
        "        graphs out of connectivity matrices.\n",
        "\n",
        "        \"\"\"\n",
        "\n",
        "        # Paths of connectivity matrices\n",
        "        corr_path_list = sorted(os.listdir(corr_matrices_dir), key=lambda x: int(x[-8:-4]))\n",
        "        pcorr_path_list = sorted(os.listdir(pcorr_matrices_dir), key=lambda x: int(x[-8:-4]))\n",
        "\n",
        "        graphs = []\n",
        "        labels = torch.from_numpy(np.loadtxt(labels_file, delimiter=','))\n",
        "        for i in range(0, len(corr_path_list)):\n",
        "            corr_matrix_path = os.path.join(corr_matrices_dir, corr_path_list[i])\n",
        "            pcorr_matrix_path = os.path.join(pcorr_matrices_dir, pcorr_path_list[i])\n",
        "\n",
        "            # Pushing partial correlation matrices through pipeline to get final Data object\n",
        "            pcorr_matrix_np = np.loadtxt(pcorr_matrix_path, delimiter=',')\n",
        "\n",
        "            index = np.abs(pcorr_matrix_np).argsort(axis=1)\n",
        "            n_rois = pcorr_matrix_np.shape[0]\n",
        "\n",
        "            # Take only the top k correlates to reduce number of edges\n",
        "            for j in range(n_rois):\n",
        "                for k in range(n_rois - self.neighbors):\n",
        "                    pcorr_matrix_np[j, index[j, k]] = 0\n",
        "                for k in range(n_rois - self.neighbors, n_rois):\n",
        "                    pcorr_matrix_np[j, index[j, k]] = 1\n",
        "\n",
        "            pcorr_matrix_nx = from_numpy_array(pcorr_matrix_np)\n",
        "            pcorr_matrix_data = from_networkx(pcorr_matrix_nx)\n",
        "\n",
        "            # Correlation matrix which will serve as our features\n",
        "            corr_matrix_np = np.loadtxt(corr_matrix_path, delimiter=',')\n",
        "\n",
        "            pcorr_matrix_data.x = torch.tensor(corr_matrix_np).float()\n",
        "            pcorr_matrix_data.y = labels[i].type(torch.LongTensor)\n",
        "\n",
        "            # Add to running list of all dataset items\n",
        "            graphs.append(pcorr_matrix_data)\n",
        "\n",
        "        data, slices = self.collate(graphs)\n",
        "        torch.save((data, slices), self.processed_paths[0])"
      ]
    },
    {
      "cell_type": "code",
      "execution_count": null,
      "metadata": {
        "id": "cITHsMtW8L0k"
      },
      "outputs": [],
      "source": [
        "dataset = DevDataset('dataset_pyg')\n",
        "dataset = dataset.shuffle()\n",
        "\n",
        "# Train/test split (80-20)\n",
        "train_share = int(len(dataset) * 0.8)\n",
        "\n",
        "train_dataset = dataset[:train_share]\n",
        "test_dataset = dataset[train_share:]"
      ]
    },
    {
      "cell_type": "markdown",
      "metadata": {
        "id": "EMbVI0sZBFEz"
      },
      "source": [
        "# **Model definition**\n",
        "\n",
        "Definir classe simplificada do modelo [cGCN](https://www.ncbi.nlm.nih.gov/pmc/articles/PMC7935029/).\n",
        "\n",
        "No artigo sobre cGCN, os autores constroem uma sequência de gráficos para cada sujeito, cada um correspondendo a uma etapa diferente em sua série temporal. Utilizamos a matriz de correlação parcial para todos os sujeitos e selecionamos as k conexões mais influentes como arestas para cada ROI.\n",
        "![](https://i.imgur.com/uDalqlP.png)\n",
        "*Wang et al.*"
      ]
    },
    {
      "cell_type": "code",
      "execution_count": null,
      "metadata": {
        "id": "ePrFGWtNBIVF"
      },
      "outputs": [],
      "source": [
        "class GraphNetwork(torch.nn.Module):\n",
        "    def __init__(self, hidden_channels):\n",
        "        super().__init__()\n",
        "\n",
        "        # Initialize MLPs used by EdgeConv layers\n",
        "        self.mlp1 = Sequential(Linear(2 * dataset.num_node_features, hidden_channels), ReLU())\n",
        "        self.mlp2 = Sequential(torch.nn.Linear(2 * hidden_channels, hidden_channels), ReLU())\n",
        "        self.mlp3 = Sequential(torch.nn.Linear(2 * hidden_channels, hidden_channels), ReLU())\n",
        "\n",
        "        # Initialize EdgeConv layers\n",
        "        self.conv1 = EdgeConv(self.mlp1, aggr='max')\n",
        "        self.conv2 = EdgeConv(self.mlp2, aggr='max')\n",
        "        self.conv3 = EdgeConv(self.mlp3, aggr='max')\n",
        "\n",
        "        self.bn1 = torch.nn.BatchNorm1d(hidden_channels)\n",
        "        self.bn2 = torch.nn.BatchNorm1d(hidden_channels)\n",
        "        self.bn3 = torch.nn.BatchNorm1d(hidden_channels)\n",
        "\n",
        "        self.linear = torch.nn.Linear(hidden_channels, dataset.num_classes)\n",
        "\n",
        "    def forward(self, data):\n",
        "        \"\"\" Performs a forward pass on our simplified cGCN.\n",
        "\n",
        "        Parameters:\n",
        "        data (Data): Graph being passed into network.\n",
        "\n",
        "        Returns:\n",
        "        torch.Tensor (N x 2): Probability distribution over class labels.\n",
        "        \"\"\"\n",
        "        x, edge_index, batch = data.x, data.edge_index, data.batch\n",
        "\n",
        "        x = self.conv1(x, edge_index)\n",
        "        x = self.bn1(x)\n",
        "        x = F.relu(x)\n",
        "\n",
        "        x = self.conv2(x, edge_index)\n",
        "        x = self.bn2(x)\n",
        "        x = F.relu(x)\n",
        "\n",
        "        x = self.conv3(x, edge_index)\n",
        "        x = self.bn3(x)\n",
        "\n",
        "        x = global_mean_pool(x, batch)\n",
        "        x = self.linear(x)\n",
        "        x = F.softmax(x, dim=1)\n",
        "\n",
        "        return x"
      ]
    },
    {
      "cell_type": "markdown",
      "metadata": {
        "id": "QDGSZT72BPGh"
      },
      "source": [
        "# Treinamento\n",
        "Ultimos passos do treinamento para o nosso modelo."
      ]
    },
    {
      "cell_type": "code",
      "execution_count": null,
      "metadata": {
        "id": "FyLSRBySBQw4"
      },
      "outputs": [],
      "source": [
        "def train(model, loss_fn, device, data_loader, optimizer):\n",
        "    \"\"\" Performs an epoch of model training.\n",
        "\n",
        "    Parameters:\n",
        "    model (nn.Module): Model to be trained.\n",
        "    loss_fn (nn.Module): Loss function for training.\n",
        "    device (torch.Device): Device used for training.\n",
        "    data_loader (torch.utils.data.DataLoader): Data loader containing all batches.\n",
        "    optimizer (torch.optim.Optimizer): Optimizer used to update model.\n",
        "\n",
        "    Returns:\n",
        "    float: Total loss for epoch.\n",
        "    \"\"\"\n",
        "    model.train()\n",
        "    loss = 0\n",
        "\n",
        "    for batch in data_loader:\n",
        "        batch = batch.to(device)\n",
        "\n",
        "        optimizer.zero_grad()\n",
        "        out = model(batch)\n",
        "\n",
        "        loss = loss_fn(out, batch.y)\n",
        "\n",
        "        loss.backward()\n",
        "        optimizer.step()\n",
        "\n",
        "    return loss.item()\n",
        "\n",
        "def eval(model, device, loader):\n",
        "    \"\"\" Calculate accuracy for all examples in a DataLoader.\n",
        "\n",
        "    Parameters:\n",
        "    model (nn.Module): Model to be evaluated.\n",
        "    device (torch.Device): Device used for training.\n",
        "    loader (torch.utils.data.DataLoader): DataLoader containing examples to test.\n",
        "    \"\"\"\n",
        "    model.eval()\n",
        "    cor = 0\n",
        "    tot = 0\n",
        "\n",
        "    for batch in loader:\n",
        "        batch = batch.to(device)\n",
        "\n",
        "        with torch.no_grad():\n",
        "            pred = torch.argmax(model(batch), 1)\n",
        "\n",
        "        y = batch.y\n",
        "        cor += (pred == y).sum()\n",
        "        tot += pred.shape[0]\n",
        "\n",
        "    return cor / tot"
      ]
    },
    {
      "cell_type": "code",
      "execution_count": null,
      "metadata": {
        "id": "dr4m_GG9BW8x",
        "colab": {
          "base_uri": "https://localhost:8080/",
          "height": 985
        },
        "outputId": "0a1e2ac1-2bf8-4ba3-888a-6f9512018999"
      },
      "outputs": [
        {
          "output_type": "stream",
          "name": "stderr",
          "text": [
            "/usr/local/lib/python3.11/dist-packages/torch_geometric/deprecation.py:26: UserWarning: 'data.DataLoader' is deprecated, use 'loader.DataLoader' instead\n",
            "  warnings.warn(out)\n"
          ]
        },
        {
          "output_type": "stream",
          "name": "stdout",
          "text": [
            "Epoch: 01, Loss: -0.6591, Train: 80.65%, Test: 70.97%\n",
            "Epoch: 02, Loss: -0.8935, Train: 85.48%, Test: 74.19%\n",
            "Epoch: 03, Loss: -0.8691, Train: 80.65%, Test: 70.97%\n",
            "Epoch: 04, Loss: -0.9688, Train: 80.65%, Test: 70.97%\n",
            "Epoch: 05, Loss: -0.9637, Train: 85.48%, Test: 74.19%\n",
            "Epoch: 06, Loss: -0.9651, Train: 99.19%, Test: 83.87%\n",
            "Epoch: 07, Loss: -0.9975, Train: 100.00%, Test: 80.65%\n",
            "Epoch: 08, Loss: -0.9992, Train: 99.19%, Test: 80.65%\n",
            "Epoch: 09, Loss: -0.9974, Train: 98.39%, Test: 87.10%\n",
            "Epoch: 10, Loss: -0.9100, Train: 99.19%, Test: 90.32%\n",
            "Epoch: 11, Loss: -0.9974, Train: 99.19%, Test: 90.32%\n",
            "Epoch: 12, Loss: -0.9618, Train: 98.39%, Test: 93.55%\n",
            "Epoch: 13, Loss: -0.9720, Train: 98.39%, Test: 90.32%\n",
            "Epoch: 14, Loss: -0.9995, Train: 100.00%, Test: 83.87%\n",
            "Epoch: 15, Loss: -0.9823, Train: 99.19%, Test: 83.87%\n",
            "Epoch: 16, Loss: -0.9608, Train: 100.00%, Test: 83.87%\n",
            "Epoch: 17, Loss: -0.9997, Train: 100.00%, Test: 83.87%\n",
            "Epoch: 18, Loss: -0.9999, Train: 100.00%, Test: 87.10%\n",
            "Epoch: 19, Loss: -0.9990, Train: 100.00%, Test: 93.55%\n",
            "Epoch: 20, Loss: -0.9902, Train: 99.19%, Test: 90.32%\n",
            "Epoch: 21, Loss: -0.9982, Train: 100.00%, Test: 96.77%\n",
            "Epoch: 22, Loss: -0.9416, Train: 95.97%, Test: 93.55%\n",
            "Epoch: 23, Loss: -0.9998, Train: 95.16%, Test: 93.55%\n",
            "Epoch: 24, Loss: -0.9746, Train: 95.97%, Test: 87.10%\n",
            "Epoch: 25, Loss: -0.9986, Train: 99.19%, Test: 87.10%\n",
            "Epoch: 26, Loss: -0.9996, Train: 100.00%, Test: 87.10%\n",
            "Epoch: 27, Loss: -0.9999, Train: 99.19%, Test: 80.65%\n",
            "Epoch: 28, Loss: -0.9993, Train: 100.00%, Test: 83.87%\n",
            "Epoch: 29, Loss: -0.9996, Train: 100.00%, Test: 87.10%\n",
            "Epoch: 30, Loss: -1.0000, Train: 100.00%, Test: 87.10%\n"
          ]
        },
        {
          "output_type": "display_data",
          "data": {
            "text/plain": [
              "<Figure size 640x480 with 1 Axes>"
            ],
            "image/png": "[encoded data removed]"
          },
          "metadata": {}
        }
      ],
      "source": [
        "device = torch.device(\"cuda\" if torch.cuda.is_available() else \"cpu\")\n",
        "\n",
        "model = GraphNetwork(32).to(device)\n",
        "optimizer = torch.optim.Adam(model.parameters(), lr=0.01)\n",
        "\n",
        "train_loader = DataLoader(train_dataset, batch_size=32, shuffle=True)\n",
        "test_loader = DataLoader(test_dataset, batch_size=32, shuffle=False)\n",
        "\n",
        "loss_fn = torch.nn.NLLLoss()\n",
        "losses = []\n",
        "\n",
        "for epoch in range(0, 30):\n",
        "    loss = train(model, loss_fn, device, train_loader, optimizer)\n",
        "    train_result = eval(model, device, train_loader)\n",
        "    test_result = eval(model, device, test_loader)\n",
        "\n",
        "    losses.append(loss)\n",
        "\n",
        "    print(f'Epoch: {epoch + 1:02d}, '\n",
        "          f'Loss: {loss:.4f}, '\n",
        "          f'Train: {100 * train_result:.2f}%, '\n",
        "          f'Test: {100 * test_result:.2f}%')\n",
        "\n",
        "plt.plot(losses)\n",
        "plt.show()"
      ]
    },
    {
      "cell_type": "markdown",
      "metadata": {
        "id": "r3pZgPM9DbgJ"
      },
      "source": [
        "# **Seção bônus: implementação completa do cGCN**\n",
        "\n",
        "Embora a implementação completa do cGCN (com mais de um quadro de entrada) não tenha um bom desempenho em nossa tarefa, incluímos nossa implementação para referência."
      ]
    },
    {
      "cell_type": "markdown",
      "metadata": {
        "id": "UA8850yID3dD"
      },
      "source": [
        "***Construindo o conjunto de dados***\n",
        "Para construir estes gráficos, carregamos a matriz de correlação parcial média que calculamos anteriormente. As arestas são formadas entre as ROIs e suas k conexões mais fortes. Usamos os sinais das séries temporais como recursos para nossos gráficos.\n",
        "\n",
        "[ ]"
      ]
    },
    {
      "cell_type": "code",
      "execution_count": null,
      "metadata": {
        "id": "RTpheohgDvFu"
      },
      "outputs": [],
      "source": [
        "class CogFullDataset(InMemoryDataset):\n",
        "    def __init__(self, root, transform=None, pre_transform=None, neighbors=10):\n",
        "        self.neighbors = neighbors\n",
        "        super().__init__(root, transform, pre_transform)\n",
        "\n",
        "        # Solução 1: Usar weights_only=False (se você confia no arquivo)\n",
        "        self.data, self.slices = torch.load(self.processed_paths[0], weights_only=False)\n",
        "\n",
        "        # Alternativa - Solução 2: Usar safe_globals (mais seguro)\n",
        "        # from torch.serialization import add_safe_globals\n",
        "        # from torch_geometric.data.data import DataEdgeAttr\n",
        "        # add_safe_globals([DataEdgeAttr])\n",
        "        # self.data, self.slices = torch.load(self.processed_paths[0])\n",
        "\n",
        "    @property\n",
        "    def processed_file_names(self):\n",
        "        return ['data.pt']\n",
        "\n",
        "    def process(self):\n",
        "        graphs = []\n",
        "\n",
        "        # Certifique-se de que estas variáveis estão definidas\n",
        "        # avg_pcorr_file, labels_file, time_series_dir devem estar definidas\n",
        "        avg_pcorr_matrix = np.loadtxt(avg_pcorr_file, dtype=float, delimiter=',')\n",
        "        index = avg_pcorr_matrix.argsort(axis=1)\n",
        "        n_rois = avg_pcorr_matrix.shape[0]\n",
        "\n",
        "        # Take only the top k correlates for each ROI to reduce number of edges\n",
        "        for i in range(n_rois):\n",
        "            for j in range(n_rois - self.neighbors):\n",
        "                avg_pcorr_matrix[i, index[i, j]] = 0\n",
        "            for j in range(n_rois - self.neighbors, n_rois):\n",
        "                avg_pcorr_matrix[i, index[i, j]] = 1\n",
        "\n",
        "        labels = torch.from_numpy(np.loadtxt(labels_file, delimiter=','))\n",
        "\n",
        "        # Assign features and labels to graphs using time series\n",
        "        for i, path in enumerate(sorted(os.listdir(time_series_dir))):\n",
        "            time_series_path = os.path.join(time_series_dir, path)\n",
        "            ts = torch.from_numpy(np.loadtxt(time_series_path, dtype=float, delimiter=',')).T.float()\n",
        "\n",
        "            # Construct graph object from partial correlation matrix\n",
        "            # All training examples will share the same edges\n",
        "            pcorr_matrix_nx = from_numpy_array(avg_pcorr_matrix)\n",
        "            pcorr_matrix_data = from_networkx(pcorr_matrix_nx)\n",
        "\n",
        "            pcorr_matrix_data.x = ts.type(torch.FloatTensor) # Time series signals are features for nodes\n",
        "            pcorr_matrix_data.y = labels[i].type(torch.LongTensor)\n",
        "\n",
        "            graphs.append(pcorr_matrix_data)\n",
        "\n",
        "        data, slices = self.collate(graphs)\n",
        "\n",
        "        # Salvar com weights_only=False também\n",
        "        torch.save((data, slices), self.processed_paths[0])"
      ]
    },
    {
      "cell_type": "code",
      "execution_count": null,
      "metadata": {
        "id": "eb-yOu-OEL5d"
      },
      "outputs": [],
      "source": [
        "dataset_full = CogFullDataset('dataset_full_pyg')\n",
        "dataset_full = dataset_full.shuffle()\n",
        "\n",
        "# Train/test split (80-20)\n",
        "train_share_full = int(len(dataset_full) * 0.8)\n",
        "\n",
        "train_dataset_full = dataset_full[:train_share]\n",
        "test_dataset_full = dataset_full[train_share:]"
      ]
    },
    {
      "cell_type": "markdown",
      "metadata": {
        "id": "QEeP1UO5EaaA"
      },
      "source": [
        "Vemos que há 475 arestas no total em cada gráfico e 39 ROIs. (O motivo de haver menos de 39 * arestas vizinhas é que algumas ROIs compartilham os principais correlatos.)"
      ]
    },
    {
      "cell_type": "code",
      "execution_count": null,
      "metadata": {
        "id": "eUVMSFKuEYBJ",
        "colab": {
          "base_uri": "https://localhost:8080/"
        },
        "outputId": "4502005b-4784-493a-e967-89c077afae58"
      },
      "outputs": [
        {
          "output_type": "stream",
          "name": "stdout",
          "text": [
            "Data(edge_index=[2, 437], weight=[437], x=[39, 39], y=[1], num_nodes=39)\n"
          ]
        }
      ],
      "source": [
        "print(dataset[0])"
      ]
    },
    {
      "cell_type": "markdown",
      "metadata": {
        "id": "2WQKy2cmEoST"
      },
      "source": [
        "### **Definição do model**\n",
        "\n",
        "Usamos EdgeConv aqui em vez de GraphConv, como feito no cGCN. EdgeConv aprende uma MLP sobre recursos de aresta."
      ]
    },
    {
      "cell_type": "code",
      "execution_count": null,
      "metadata": {
        "id": "9C00RBF8Eg0f"
      },
      "outputs": [],
      "source": [
        "class ConvLayers(torch.nn.Module):\n",
        "    def __init__(self, hidden_channels, n_classes, n_rois, n_samples):\n",
        "        super(ConvLayers, self).__init__()\n",
        "        self.n_rois = n_rois\n",
        "        self.n_samples = n_samples\n",
        "        in_channels = 1\n",
        "\n",
        "        # Initialize MLPs used by EdgeConv layers\n",
        "        self.mlp1 = Sequential(Linear(2 * in_channels, hidden_channels), ReLU())\n",
        "        self.mlp2 = Sequential(torch.nn.Linear(2 * hidden_channels, hidden_channels), ReLU())\n",
        "        self.mlp3 = Sequential(torch.nn.Linear(2 * hidden_channels, hidden_channels), ReLU())\n",
        "        self.mlp4 = Sequential(torch.nn.Linear(2 * hidden_channels, hidden_channels), ReLU())\n",
        "        self.mlp5 = Sequential(torch.nn.Linear(2 * 4 * hidden_channels, hidden_channels), ReLU())\n",
        "\n",
        "        # Initialize EdgeConv layers\n",
        "        self.conv1 = EdgeConv(self.mlp1, aggr='max')\n",
        "        self.conv2 = EdgeConv(self.mlp2, aggr='max')\n",
        "        self.conv3 = EdgeConv(self.mlp3, aggr='max')\n",
        "        self.conv4 = EdgeConv(self.mlp4, aggr='max')\n",
        "        self.conv5 = EdgeConv(self.mlp5, aggr='max')\n",
        "\n",
        "        self.bn = BatchNorm1d(self.n_samples)\n",
        "\n",
        "        # RNN to combine representations of nodes at each time frame\n",
        "        self.rnn = GRU(input_size = hidden_channels, hidden_size = hidden_channels, num_layers=2, dropout=0.2, batch_first=True)\n",
        "        self.linear = Linear(n_rois * hidden_channels, n_classes)\n",
        "\n",
        "\n",
        "    def forward(self, data):\n",
        "        X, edge_index = data.x, data.edge_index\n",
        "\n",
        "        # T = time\n",
        "        # N = batch size\n",
        "        # V = ROIs\n",
        "        # H = hidden channels\n",
        "\n",
        "        X = X.unsqueeze(dim=2) # (N * V) x T x 1\n",
        "        X = X.transpose(0, 1) # T x (N * V) x 1\n",
        "\n",
        "        X_1 = self.conv1(X, edge_index)\n",
        "        X_2 = self.conv2(X_1, edge_index)\n",
        "        X_3 = self.conv3(X_2, edge_index)\n",
        "        X_4 = self.conv4(X_3, edge_index) # T x (N * V) x H\n",
        "        X_5 = self.conv5(torch.cat((X_1, X_2, X_3, X_4), dim=2), edge_index) # T x (N * V) x H\n",
        "\n",
        "        # Temporal average pooling - ALTERNATIVE TO RNN\n",
        "        # x = X_5.reshape((X_5.shape[0], int(X_5.shape[1] / self.n_rois), self.n_rois, X_5.shape[2]))\n",
        "        # x = torch.flatten(x, 2, 3)\n",
        "        # x = self.linear(x)\n",
        "        # x = F.softmax(x, dim=2)\n",
        "        # out = torch.mean(x, dim=0)\n",
        "\n",
        "        # Learn an RNN\n",
        "        x = X_5.transpose(0, 1) # (N * V) x T x H\n",
        "        x = self.rnn(x)[0]\n",
        "        x = F.relu(self.bn(x))\n",
        "        x = x.transpose(0, 1)\n",
        "        x = x.reshape((x.shape[0], int(x.shape[1] / self.n_rois), self.n_rois, x.shape[2]))\n",
        "        x = torch.flatten(x, 2, 3)\n",
        "        x = self.linear(x)\n",
        "        x = F.softmax(x, dim=2)\n",
        "\n",
        "        out = torch.mean(x, dim=0)\n",
        "\n",
        "        return out"
      ]
    },
    {
      "cell_type": "markdown",
      "metadata": {
        "id": "pq_OtvJvFwhT"
      },
      "source": [
        "### **Treinamento**"
      ]
    },
    {
      "cell_type": "code",
      "execution_count": null,
      "metadata": {
        "id": "FxRhw7DGF1WR",
        "colab": {
          "base_uri": "https://localhost:8080/"
        },
        "outputId": "cc7dda68-2641-480b-9556-ba7b0f88f4ae"
      },
      "outputs": [
        {
          "output_type": "stream",
          "name": "stderr",
          "text": [
            "/usr/local/lib/python3.11/dist-packages/torch_geometric/deprecation.py:26: UserWarning: 'data.DataLoader' is deprecated, use 'loader.DataLoader' instead\n",
            "  warnings.warn(out)\n"
          ]
        },
        {
          "output_type": "stream",
          "name": "stdout",
          "text": [
            "Epoch: 01, Loss: 0.6429, Train: 80.65%, Test: 70.97%\n",
            "Epoch: 02, Loss: 0.6390, Train: 80.65%, Test: 70.97%\n",
            "Epoch: 03, Loss: 0.6559, Train: 80.65%, Test: 70.97%\n",
            "Epoch: 04, Loss: 0.6300, Train: 80.65%, Test: 70.97%\n",
            "Epoch: 05, Loss: 0.6271, Train: 80.65%, Test: 70.97%\n",
            "Epoch: 06, Loss: 0.6142, Train: 80.65%, Test: 70.97%\n",
            "Epoch: 07, Loss: 0.6379, Train: 80.65%, Test: 70.97%\n",
            "Epoch: 08, Loss: 0.6056, Train: 80.65%, Test: 70.97%\n",
            "Epoch: 09, Loss: 0.6022, Train: 80.65%, Test: 70.97%\n",
            "Epoch: 10, Loss: 0.6303, Train: 80.65%, Test: 70.97%\n",
            "Epoch: 11, Loss: 0.6158, Train: 80.65%, Test: 70.97%\n",
            "Epoch: 12, Loss: 0.6008, Train: 80.65%, Test: 70.97%\n",
            "Epoch: 13, Loss: 0.5613, Train: 80.65%, Test: 70.97%\n",
            "Epoch: 14, Loss: 0.5948, Train: 80.65%, Test: 70.97%\n",
            "Epoch: 15, Loss: 0.5785, Train: 80.65%, Test: 70.97%\n",
            "Epoch: 16, Loss: 0.6147, Train: 80.65%, Test: 70.97%\n",
            "Epoch: 17, Loss: 0.6141, Train: 80.65%, Test: 70.97%\n",
            "Epoch: 18, Loss: 0.5967, Train: 80.65%, Test: 70.97%\n",
            "Epoch: 19, Loss: 0.5942, Train: 80.65%, Test: 70.97%\n",
            "Epoch: 20, Loss: 0.5458, Train: 80.65%, Test: 70.97%\n",
            "Epoch: 21, Loss: 0.6063, Train: 80.65%, Test: 70.97%\n",
            "Epoch: 22, Loss: 0.6371, Train: 80.65%, Test: 70.97%\n",
            "Epoch: 23, Loss: 0.5856, Train: 80.65%, Test: 70.97%\n",
            "Epoch: 24, Loss: 0.5483, Train: 80.65%, Test: 70.97%\n",
            "Epoch: 25, Loss: 0.5817, Train: 80.65%, Test: 70.97%\n",
            "Epoch: 26, Loss: 0.6344, Train: 80.65%, Test: 70.97%\n",
            "Epoch: 27, Loss: 0.6344, Train: 80.65%, Test: 70.97%\n",
            "Epoch: 28, Loss: 0.5376, Train: 80.65%, Test: 70.97%\n",
            "Epoch: 29, Loss: 0.5745, Train: 80.65%, Test: 70.97%\n",
            "Epoch: 30, Loss: 0.5722, Train: 80.65%, Test: 70.97%\n"
          ]
        }
      ],
      "source": [
        "model_full = ConvLayers(20, 2, 39, 168).to(device)\n",
        "optimizer_full = torch.optim.Adam(model_full.parameters(), lr=0.00001)\n",
        "\n",
        "train_loader_full = DataLoader(train_dataset_full, batch_size=32, shuffle=True)\n",
        "test_loader_full = DataLoader(test_dataset_full, batch_size=32, shuffle=False)\n",
        "\n",
        "loss_fn_full = torch.nn.CrossEntropyLoss()\n",
        "losses_full = []\n",
        "\n",
        "for epoch in range(50):\n",
        "  loss = train(model_full, loss_fn_full, device, train_loader_full, optimizer_full)\n",
        "  train_result = eval(model_full, device, train_loader_full)\n",
        "  test_result = eval(model_full, device, test_loader_full)\n",
        "\n",
        "  losses_full.append(loss)\n",
        "\n",
        "  print(f'Epoch: {epoch + 1:02d}, '\n",
        "        f'Loss: {loss:.4f}, '\n",
        "        f'Train: {100 * train_result:.2f}%, '\n",
        "        f'Test: {100 * test_result:.2f}%')\n",
        "\n",
        "plt.plot(losses_full)\n",
        "plt.show()"
      ]
    }
  ],
  "metadata": {
    "accelerator": "GPU",
    "colab": {
      "gpuType": "T4",
      "provenance": [],
      "include_colab_link": true
    },
    "kernelspec": {
      "display_name": "Python 3",
      "name": "python3"
    },
    "language_info": {
      "name": "python"
    }
  },
  "nbformat": 4,
  "nbformat_minor": 0
}